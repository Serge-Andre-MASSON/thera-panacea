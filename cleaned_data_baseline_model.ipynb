{
 "cells": [
  {
   "cell_type": "code",
   "execution_count": null,
   "metadata": {},
   "outputs": [],
   "source": [
    "%load_ext autoreload\n",
    "%autoreload 2"
   ]
  },
  {
   "cell_type": "code",
   "execution_count": null,
   "metadata": {},
   "outputs": [],
   "source": [
    "import torch\n",
    "\n",
    "\n",
    "device = \"cuda\" if torch.cuda.is_available() else \"cpu\""
   ]
  },
  {
   "cell_type": "code",
   "execution_count": null,
   "metadata": {},
   "outputs": [],
   "source": [
    "from pathlib import Path\n",
    "import pickle\n",
    "\n",
    "from thera_panacea.utils import get_class_weights\n",
    "\n",
    "with open(Path(\"data/cleaned_df.pkl\"), \"rb\") as f:\n",
    "    cleaned_df_ = pickle.load(f)\n",
    "\n",
    "cleaned_df = cleaned_df_[[\"path\", \"label\"]]\n",
    "\n",
    "class_weight = get_class_weights(cleaned_df, device)"
   ]
  },
  {
   "cell_type": "code",
   "execution_count": null,
   "metadata": {},
   "outputs": [],
   "source": [
    "import torch\n",
    "from sklearn.model_selection import train_test_split\n",
    "from torch.utils.data import DataLoader\n",
    "from torch.optim import Adam\n",
    "from torch.nn import CrossEntropyLoss\n",
    "\n",
    "from thera_panacea.dataset.dataset import TherasDS\n",
    "from thera_panacea.model.baseline_model import BaselineModel, preprocess\n",
    "from thera_panacea.trainer.trainer import Trainer\n",
    "\n",
    "\n",
    "n_epochs = 25\n",
    "batch_size = 2048\n",
    "\n",
    "# Data\n",
    "train_df, test_df = train_test_split(cleaned_df, test_size=.2)\n",
    "\n",
    "train_ds = TherasDS(train_df, device, preprocess)\n",
    "test_ds = TherasDS(test_df, device, preprocess)\n",
    "\n",
    "train_dl = DataLoader(train_ds, batch_size=batch_size)\n",
    "test_dl = DataLoader(test_ds, batch_size=batch_size, shuffle=False)\n",
    "\n",
    "# Model\n",
    "model = BaselineModel().to(device)\n",
    "\n",
    "# Trainer\n",
    "loss_function = CrossEntropyLoss(\n",
    "    weight=get_class_weights(train_df, device),\n",
    "    label_smoothing=0.1\n",
    ")\n",
    "opt = Adam(model.parameters())\n",
    "model_path = Path(\n",
    "    \"cleaned_data_baseline_model_state_dict.pth\")\n",
    "trainer = Trainer(model, opt, loss_function, model_path)\n",
    "\n",
    "# Train\n",
    "trainer.train(train_dl, test_dl, n_epochs)"
   ]
  },
  {
   "cell_type": "code",
   "execution_count": null,
   "metadata": {},
   "outputs": [],
   "source": [
    "from tqdm import tqdm\n",
    "\n",
    "\n",
    "model = BaselineModel()\n",
    "model.load_state_dict(torch.load(model_path, map_location=\"cpu\"))\n",
    "model.to(\"cuda\")\n",
    "model.eval()\n",
    "\n",
    "preds = []\n",
    "for imgs, labels in tqdm(test_dl):\n",
    "    pred = model(imgs).argmax(-1)\n",
    "    preds.extend(pred.cpu().numpy())"
   ]
  },
  {
   "cell_type": "code",
   "execution_count": null,
   "metadata": {},
   "outputs": [],
   "source": [
    "import pickle\n",
    "from thera_panacea.utils import get_results, display_results\n",
    "\n",
    "\n",
    "labels = test_df['label']\n",
    "\n",
    "results = get_results(preds, labels)\n",
    "display_results(results)\n",
    "\n",
    "with open(Path(\"cleaned_data_results.pkl\"), \"wb\") as f:\n",
    "    pickle.dump(results, f)"
   ]
  }
 ],
 "metadata": {
  "kernelspec": {
   "display_name": ".venv",
   "language": "python",
   "name": "python3"
  },
  "language_info": {
   "codemirror_mode": {
    "name": "ipython",
    "version": 3
   },
   "file_extension": ".py",
   "mimetype": "text/x-python",
   "name": "python",
   "nbconvert_exporter": "python",
   "pygments_lexer": "ipython3",
   "version": "3.10.6"
  },
  "orig_nbformat": 4
 },
 "nbformat": 4,
 "nbformat_minor": 2
}
