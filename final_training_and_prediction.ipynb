{
 "cells": [
  {
   "cell_type": "code",
   "execution_count": null,
   "metadata": {},
   "outputs": [],
   "source": [
    "%load_ext autoreload\n",
    "%autoreload 2"
   ]
  },
  {
   "cell_type": "code",
   "execution_count": null,
   "metadata": {},
   "outputs": [],
   "source": [
    "import torch\n",
    "\n",
    "\n",
    "device = \"cuda\" if torch.cuda.is_available() else \"cpu\""
   ]
  },
  {
   "cell_type": "code",
   "execution_count": null,
   "metadata": {},
   "outputs": [],
   "source": [
    "from pathlib import Path\n",
    "import pickle\n",
    "\n",
    "from thera_panacea.utils import get_class_weights\n",
    "\n",
    "with open(Path(\"data/cleaned_df.pkl\"), \"rb\") as f:\n",
    "    cleaned_df_ = pickle.load(f)\n",
    "\n",
    "cleaned_df = cleaned_df_[[\"path\", \"label\"]]\n",
    "\n",
    "class_weight = get_class_weights(cleaned_df, device)"
   ]
  },
  {
   "cell_type": "code",
   "execution_count": null,
   "metadata": {},
   "outputs": [],
   "source": [
    "from torch.utils.data import DataLoader\n",
    "from torch.optim import Adam\n",
    "from tqdm import tqdm\n",
    "\n",
    "from thera_panacea.dataset.dataset import TherasDS\n",
    "from thera_panacea.model.baseline_model import BaselineModel, preprocess\n",
    "from thera_panacea.trainer.trainer import Trainer\n",
    "from torch.nn import CrossEntropyLoss\n",
    "\n",
    "\n",
    "n_epochs = 20\n",
    "batch_size = 2048\n",
    "epochs = range(1, n_epochs + 1)\n",
    "\n",
    "model = BaselineModel().to(device)\n",
    "opt = Adam(model.parameters())\n",
    "\n",
    "train_ds = TherasDS(cleaned_df, device, preprocess)\n",
    "train_dl = DataLoader(train_ds, batch_size=batch_size)\n",
    "\n",
    "best_hter = 0.5\n",
    "hter_not_improving_count = 0\n",
    "\n",
    "\n",
    "model_path = Path(\"final_model_state_dict.pth\")\n",
    "\n",
    "loss_function = CrossEntropyLoss(\n",
    "    weight=class_weight,\n",
    "    label_smoothing=0.1\n",
    ")\n",
    "trainer = Trainer(model, opt, loss_function)\n",
    "\n",
    "# Training\n",
    "model.train()\n",
    "for epoch in epochs:\n",
    "    print(f\"Epoch {epoch} / {n_epochs}\")\n",
    "    for imgs, labels in tqdm(train_dl):\n",
    "        trainer.fit(imgs, labels)\n",
    "\n",
    "torch.save(model.state_dict(), model_path)"
   ]
  },
  {
   "cell_type": "code",
   "execution_count": null,
   "metadata": {},
   "outputs": [],
   "source": [
    "from thera_panacea.etl.extract import extract_to_df\n",
    "\n",
    "\n",
    "val_df = extract_to_df(Path(\"data/val_img\"))\n",
    "val_ds = TherasDS(val_df, device, preprocess)\n",
    "val_dl = DataLoader(val_ds, batch_size=batch_size, shuffle=False)"
   ]
  },
  {
   "cell_type": "code",
   "execution_count": null,
   "metadata": {},
   "outputs": [],
   "source": [
    "model.eval()\n",
    "\n",
    "preds = []\n",
    "for imgs in tqdm(val_dl):\n",
    "    pred = model(imgs).argmax(-1)\n",
    "    preds.extend(pred.cpu().numpy())\n",
    "\n",
    "val_df[\"pred\"] = preds\n",
    "val_df.head()"
   ]
  },
  {
   "cell_type": "code",
   "execution_count": null,
   "metadata": {},
   "outputs": [],
   "source": [
    "with open(Path(\"val_df.pkl\"), \"wb\") as f:\n",
    "    pickle.dump(val_df, f)"
   ]
  },
  {
   "cell_type": "code",
   "execution_count": null,
   "metadata": {},
   "outputs": [],
   "source": [
    "import matplotlib.pyplot as plt\n",
    "from PIL import Image\n",
    "\n",
    "\n",
    "n_rows = 3\n",
    "n_cols = 5\n",
    "sample_val = val_df.sample(15)\n",
    "fig, axes = plt.subplots(n_rows, n_cols)\n",
    "\n",
    "fig.set_size_inches(16, 9)\n",
    "\n",
    "for i in range(n_rows):\n",
    "    for j in range(n_cols):\n",
    "        ax: plt.Axes = axes[i, j]\n",
    "        idx = i * n_cols + j\n",
    "        img_path, pred = sample_val.iloc[idx]\n",
    "        with Image.open(img_path) as img:\n",
    "            ax.imshow(img)\n",
    "        ax.set_title(f\"pred: {pred}\")\n",
    "        ax.set_axis_off()"
   ]
  },
  {
   "cell_type": "code",
   "execution_count": null,
   "metadata": {},
   "outputs": [],
   "source": [
    "with open(\"label_val.txt\", \"w\") as f:\n",
    "    txt_preds = \"\\n\".join(str(pred) for pred in preds)\n",
    "    f.write(txt_preds)"
   ]
  }
 ],
 "metadata": {
  "kernelspec": {
   "display_name": ".venv",
   "language": "python",
   "name": "python3"
  },
  "language_info": {
   "codemirror_mode": {
    "name": "ipython",
    "version": 3
   },
   "file_extension": ".py",
   "mimetype": "text/x-python",
   "name": "python",
   "nbconvert_exporter": "python",
   "pygments_lexer": "ipython3",
   "version": "3.10.6"
  },
  "orig_nbformat": 4
 },
 "nbformat": 4,
 "nbformat_minor": 2
}
