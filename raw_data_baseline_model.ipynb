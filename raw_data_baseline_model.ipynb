{
 "cells": [
  {
   "cell_type": "code",
   "execution_count": null,
   "metadata": {},
   "outputs": [],
   "source": [
    "%load_ext autoreload\n",
    "%autoreload 2"
   ]
  },
  {
   "cell_type": "code",
   "execution_count": null,
   "metadata": {},
   "outputs": [],
   "source": [
    "from pathlib import Path\n",
    "\n",
    "from thera_panacea.etl.extract import extract_to_df\n",
    "\n",
    "\n",
    "data_root_dir = Path(\"data\")\n",
    "train_img_dir = data_root_dir / \"train_img\"\n",
    "label_file = data_root_dir / \"label_train.txt\"\n",
    "\n",
    "df = extract_to_df(train_img_dir, label_file)\n",
    "\n",
    "# Set a copy of original df to keep track of\n",
    "# out of sample probs and preds\n",
    "oos_probs_df = df.copy()\n",
    "oos_probs_df[\"pred\"] = [-1 for _ in range(len(oos_probs_df))]\n",
    "oos_probs_df[\"prob_0\"] = [-1 for _ in range(len(oos_probs_df))]\n",
    "oos_probs_df[\"prob_1\"] = [-1 for _ in range(len(oos_probs_df))]\n",
    "\n",
    "X = df[\"path\"]\n",
    "y = df[\"label\"]\n",
    "\n",
    "df.head()"
   ]
  },
  {
   "cell_type": "code",
   "execution_count": null,
   "metadata": {},
   "outputs": [],
   "source": [
    "import torch\n",
    "\n",
    "\n",
    "device = \"cuda\" if torch.cuda.is_available() else \"cpu\""
   ]
  },
  {
   "cell_type": "code",
   "execution_count": null,
   "metadata": {},
   "outputs": [],
   "source": [
    "import numpy as np\n",
    "from tqdm import tqdm\n",
    "from sklearn.model_selection import StratifiedKFold\n",
    "from scipy.special import softmax\n",
    "from torch.utils.data import DataLoader\n",
    "from torch.optim import Adam\n",
    "from torch.nn import CrossEntropyLoss\n",
    "\n",
    "from thera_panacea.dataset.dataset import TherasDS\n",
    "from thera_panacea.model.baseline_model import BaselineModel, preprocess\n",
    "from thera_panacea.trainer.trainer import Trainer\n",
    "from thera_panacea.utils import get_class_weights\n",
    "\n",
    "\n",
    "# CV\n",
    "n_splits = 5\n",
    "skf = StratifiedKFold(n_splits=n_splits)\n",
    "splits = skf.split(X, y)\n",
    "\n",
    "n_epochs = 25\n",
    "batch_size = 2048\n",
    "\n",
    "\n",
    "for i, split in enumerate(splits):\n",
    "    print(30*\"#\", f\"split {i+1} / {n_splits}\", 30*\"#\")\n",
    "\n",
    "    # Data\n",
    "    train_idx, test_idx = split\n",
    "    train_df = df.loc[train_idx]\n",
    "    test_df = df.loc[test_idx]\n",
    "\n",
    "    train_ds = TherasDS(train_df, device, preprocess)\n",
    "    test_ds = TherasDS(test_df, device, preprocess)\n",
    "\n",
    "    train_dl = DataLoader(train_ds, batch_size=batch_size)\n",
    "    test_dl = DataLoader(test_ds, batch_size=batch_size, shuffle=False)\n",
    "\n",
    "    # Model\n",
    "    model = BaselineModel().to(device)\n",
    "\n",
    "    # Trainer\n",
    "    loss_function = CrossEntropyLoss(\n",
    "        weight=get_class_weights(train_df, device),\n",
    "        label_smoothing=0.1\n",
    "    )\n",
    "    opt = Adam(model.parameters())\n",
    "    trainer = Trainer(model, opt, loss_function)\n",
    "\n",
    "    # Train\n",
    "    trainer.train(train_dl, test_dl, n_epochs)\n",
    "\n",
    "    # Predict\n",
    "    model.eval()\n",
    "    probs = None\n",
    "    for imgs, labels in tqdm(test_dl):\n",
    "        logits = model(imgs).detach().cpu().numpy()\n",
    "        if probs is None:\n",
    "            probs = softmax(logits, axis=-1)\n",
    "        else:\n",
    "            probs = np.concatenate([probs, softmax(logits, axis=-1)], axis=0)\n",
    "\n",
    "    preds = np.argmax(probs, axis=-1)\n",
    "\n",
    "    # Feed results\n",
    "    oos_probs_df.loc[test_idx, \"pred\"] = preds\n",
    "    oos_probs_df.loc[test_idx, \"prob_0\"] = probs[:, 0]\n",
    "    oos_probs_df.loc[test_idx, \"prob_1\"] = probs[:, 1]"
   ]
  },
  {
   "cell_type": "code",
   "execution_count": null,
   "metadata": {},
   "outputs": [],
   "source": [
    "import pickle\n",
    "\n",
    "\n",
    "with open(Path(\"oos_probs_df.pkl\"), \"wb\") as f:\n",
    "    pickle.dump(oos_probs_df, f)"
   ]
  },
  {
   "cell_type": "code",
   "execution_count": null,
   "metadata": {},
   "outputs": [],
   "source": [
    "import pickle\n",
    "from thera_panacea.utils import get_results, display_results\n",
    "\n",
    "\n",
    "labels = oos_probs_df[\"label\"]\n",
    "preds = oos_probs_df[\"pred\"]\n",
    "\n",
    "results = get_results(preds, labels)\n",
    "display_results(results)\n",
    "\n",
    "with open(Path(\"raw_data_results.pkl\"), \"wb\") as f:\n",
    "    pickle.dump(results, f)"
   ]
  },
  {
   "cell_type": "code",
   "execution_count": null,
   "metadata": {},
   "outputs": [],
   "source": [
    "import numpy as np\n",
    "\n",
    "\n",
    "probs = np.zeros((len(oos_probs_df), 2))\n",
    "probs[:, 0] = oos_probs_df[\"prob_0\"]\n",
    "probs[:, 1] = oos_probs_df[\"prob_1\"]"
   ]
  },
  {
   "cell_type": "code",
   "execution_count": null,
   "metadata": {},
   "outputs": [],
   "source": [
    "from cleanlab.filter import find_label_issues\n",
    "\n",
    "ranked_label_issues = find_label_issues(\n",
    "    oos_probs_df[\"label\"],\n",
    "    probs,\n",
    "    return_indices_ranked_by=\"self_confidence\",\n",
    ")\n",
    "\n",
    "len(ranked_label_issues)"
   ]
  },
  {
   "cell_type": "code",
   "execution_count": null,
   "metadata": {},
   "outputs": [],
   "source": [
    "cleaned_df = oos_probs_df.drop(ranked_label_issues, axis=0)\n",
    "\n",
    "with open(Path(\"data/cleaned_df.pkl\"), \"wb\") as f:\n",
    "    pickle.dump(cleaned_df, f)"
   ]
  }
 ],
 "metadata": {
  "kernelspec": {
   "display_name": ".venv",
   "language": "python",
   "name": "python3"
  },
  "language_info": {
   "codemirror_mode": {
    "name": "ipython",
    "version": 3
   },
   "file_extension": ".py",
   "mimetype": "text/x-python",
   "name": "python",
   "nbconvert_exporter": "python",
   "pygments_lexer": "ipython3",
   "version": "3.10.6"
  },
  "orig_nbformat": 4
 },
 "nbformat": 4,
 "nbformat_minor": 2
}
